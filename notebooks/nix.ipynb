{
 "cells": [
  {
   "cell_type": "code",
   "execution_count": null,
   "metadata": {},
   "outputs": [
    {
     "data": {
      "application/javascript": [
       "var kernel_name = btoa(`\n",
       "nix-shell -p python3Packages.ipykernel \n",
       "             python3Packages.numpy \n",
       "             python3Packages.scipy \n",
       "             python3Packages.flask \n",
       "             nodejs\n",
       "            --run \"python3 -m ipykernel -f {connection_file}\"  --pure\n",
       "`).replace('=', '_');\n",
       "\n",
       "IPython.kernelselector.kernelspecs[kernel_name] = {\n",
       "    name: kernel_name, \n",
       "    spec: {display_name: \"nix-env\", language: \"python\"}, \n",
       "    resources: {}\n",
       "};\n",
       "IPython.kernelselector.set_kernel(kernel_name);\n"
      ],
      "text/plain": [
       "<IPython.core.display.Javascript object>"
      ]
     },
     "metadata": {},
     "output_type": "display_data"
    }
   ],
   "source": [
    "%%javascript\n",
    "var kernel_name = btoa(`\n",
    "nix-shell -p python3Packages.ipykernel \n",
    "             python3Packages.numpy \n",
    "             python3Packages.scipy \n",
    "             python3Packages.flask \n",
    "             nodejs\n",
    "            --run \"python3 -m ipykernel -f {connection_file}\"  --pure\n",
    "`).replace('=', '_');\n",
    "\n",
    "IPython.kernelselector.kernelspecs[kernel_name] = {\n",
    "    name: kernel_name, \n",
    "    spec: {display_name: \"nix-env\", language: \"python\"}, \n",
    "    resources: {}\n",
    "};\n",
    "IPython.kernelselector.set_kernel(kernel_name);"
   ]
  },
  {
   "cell_type": "code",
   "execution_count": 1,
   "metadata": {},
   "outputs": [],
   "source": [
    "import flask"
   ]
  },
  {
   "cell_type": "code",
   "execution_count": null,
   "metadata": {},
   "outputs": [
    {
     "data": {
      "application/javascript": [
       "var kernel_name = btoa(`\n",
       "nix-shell -p python3Packages.ipykernel \n",
       "             python3Packages.sqlalchemy\n",
       "             nodejs\n",
       "            --run \"python3 -m ipykernel -f {connection_file}\"  --pure\n",
       "`).replace('=', '_');\n",
       "\n",
       "IPython.kernelselector.kernelspecs[kernel_name] = {\n",
       "    name: kernel_name, \n",
       "    spec: {display_name: kernel_name, language: \"python\"}, \n",
       "    resources: {}\n",
       "};\n",
       "IPython.kernelselector.set_kernel(kernel_name);\n"
      ],
      "text/plain": [
       "<IPython.core.display.Javascript object>"
      ]
     },
     "metadata": {},
     "output_type": "display_data"
    }
   ],
   "source": [
    "%%javascript\n",
    "var kernel_name = btoa(`\n",
    "nix-shell -p python3Packages.ipykernel \n",
    "             python3Packages.sqlalchemy\n",
    "             nodejs\n",
    "            --run \"python3 -m ipykernel -f {connection_file}\"  --pure\n",
    "`).replace('=', '_');\n",
    "\n",
    "IPython.kernelselector.kernelspecs[kernel_name] = {\n",
    "    name: kernel_name, \n",
    "    spec: {display_name: kernel_name, language: \"python\"}, \n",
    "    resources: {}\n",
    "};\n",
    "IPython.kernelselector.set_kernel(kernel_name);"
   ]
  },
  {
   "cell_type": "code",
   "execution_count": 1,
   "metadata": {},
   "outputs": [],
   "source": [
    "import sqlalchemy"
   ]
  },
  {
   "cell_type": "code",
   "execution_count": null,
   "metadata": {},
   "outputs": [],
   "source": []
  }
 ],
 "metadata": {
  "kernelspec": {
   "display_name": "nix-env",
   "language": "python",
   "name": "Cm5peC1zaGVsbCAtcCBweXRob24zUGFja2FnZXMuaXB5a2VybmVsIAogICAgICAgICAgICAgcHl0aG9uM1BhY2thZ2VzLm51bXB5IAogICAgICAgICAgICAgcHl0aG9uM1BhY2thZ2VzLnNjaXB5IAogICAgICAgICAgICAgcHl0aG9uM1BhY2thZ2VzLmZsYXNrIAogICAgICAgICAgICAgbm9kZWpzCiAgICAgICAgICAgIC0tcnVuICJweXRob24zIC1tIGlweWtlcm5lbCAtZiB7Y29ubmVjdGlvbl9maWxlfSIgIC0tcHVyZQo_"
  },
  "language_info": {
   "codemirror_mode": {
    "name": "ipython",
    "version": 3
   },
   "file_extension": ".py",
   "mimetype": "text/x-python",
   "name": "python",
   "nbconvert_exporter": "python",
   "pygments_lexer": "ipython3",
   "version": "3.7.4"
  }
 },
 "nbformat": 4,
 "nbformat_minor": 2
}
